{
 "cells": [
  {
   "cell_type": "code",
   "execution_count": 1,
   "metadata": {
    "collapsed": false
   },
   "outputs": [
    {
     "data": {
      "text/plain": [
       "[(2, 317.1397490501404),\n",
       " (2, 187.22814106941223),\n",
       " (2, 176.32610893249512),\n",
       " (2, 150.89748001098633),\n",
       " (2, 163.57395386695862),\n",
       " (3, 152.84630584716797)]"
      ]
     },
     "execution_count": 1,
     "metadata": {},
     "output_type": "execute_result"
    }
   ],
   "source": [
    "timerFile = 'timer.txt'\n",
    "rawTimerData = []\n",
    "c = 0\n",
    "with open(timerFile, 'r') as t:\n",
    "    count = 1\n",
    "    for l in t:\n",
    "        if c % 5 == 0:\n",
    "            count += 1\n",
    "        rawTimerData.append((count, float(l)))\n",
    "        c += 1\n",
    "rawTimerData"
   ]
  },
  {
   "cell_type": "code",
   "execution_count": 2,
   "metadata": {
    "collapsed": false
   },
   "outputs": [
    {
     "name": "stdout",
     "output_type": "stream",
     "text": [
      "Using matplotlib backend: MacOSX\n"
     ]
    }
   ],
   "source": [
    "%matplotlib \n",
    "import math \n",
    "import statistics \n",
    "import numpy as np \n",
    "rawTimerData = np.array(rawTimerData)\n",
    "timerData = [0]*(int(len(rawTimerData)/5))\n",
    "medianTimerData = [0] * (int(len(rawTimerData)/5))\n",
    "for i in range(0, int(len(rawTimerData)/5)):\n",
    "    timerData[i] = [i + 2, statistics.mean(rawTimerData[i*5:(5*i+5), 1])]\n",
    "    medianTimerData[i] = [i + 2, statistics.median(rawTimerData[i*5:(5*i+5), 1])]\n"
   ]
  },
  {
   "cell_type": "code",
   "execution_count": 3,
   "metadata": {
    "collapsed": false,
    "scrolled": true
   },
   "outputs": [],
   "source": [
    "#Errors per trial \n",
    "betterStructuredData = np.zeros((11, 5))\n",
    "c = 0\n",
    "for k in rawTimerData:  \n",
    "    betterStructuredData[int(k[0] - 2), int(c % 5)] = k[1]\n",
    "    c += 1\n",
    "\n",
    "medians = np.array(list(map(lambda k: statistics.median(k), betterStructuredData)))\n",
    "variance = np.array(list(map(lambda k: statistics.variance(k), betterStructuredData)))\n",
    "k = [[m, 0] for m in medians]\n",
    "for j in range(0, variance.size): \n",
    "    k[j][1] = variance[j]\n",
    "\n",
    "#Get Standard Error \n",
    "SE = np.array(list(map(lambda k: 1.96*np.sqrt(k)/np.sqrt(5), variance )))\n"
   ]
  },
  {
   "cell_type": "code",
   "execution_count": 4,
   "metadata": {
    "collapsed": false
   },
   "outputs": [
    {
     "ename": "ValueError",
     "evalue": "yerr must be a scalar, the same dimensions as y, or 2xN.",
     "output_type": "error",
     "traceback": [
      "\u001b[0;31m---------------------------------------------------------------------------\u001b[0m",
      "\u001b[0;31mValueError\u001b[0m                                Traceback (most recent call last)",
      "\u001b[0;32m<ipython-input-4-fcd4555266c9>\u001b[0m in \u001b[0;36m<module>\u001b[0;34m()\u001b[0m\n\u001b[1;32m     12\u001b[0m \u001b[0max\u001b[0m\u001b[0;34m.\u001b[0m\u001b[0mset_title\u001b[0m\u001b[0;34m(\u001b[0m\u001b[0;34m\"Mean Processing Time for 1000 nodes, 0-axis\"\u001b[0m\u001b[0;34m)\u001b[0m\u001b[0;34m\u001b[0m\u001b[0m\n\u001b[1;32m     13\u001b[0m \u001b[0max2\u001b[0m \u001b[0;34m=\u001b[0m \u001b[0mfig\u001b[0m\u001b[0;34m.\u001b[0m\u001b[0madd_subplot\u001b[0m\u001b[0;34m(\u001b[0m\u001b[0;36m222\u001b[0m\u001b[0;34m)\u001b[0m\u001b[0;34m\u001b[0m\u001b[0m\n\u001b[0;32m---> 14\u001b[0;31m \u001b[0max2\u001b[0m\u001b[0;34m.\u001b[0m\u001b[0merrorbar\u001b[0m\u001b[0;34m(\u001b[0m\u001b[0mtd\u001b[0m\u001b[0;34m[\u001b[0m\u001b[0;34m:\u001b[0m\u001b[0;34m,\u001b[0m \u001b[0;36m0\u001b[0m\u001b[0;34m]\u001b[0m\u001b[0;34m,\u001b[0m \u001b[0mtd\u001b[0m\u001b[0;34m[\u001b[0m\u001b[0;34m:\u001b[0m\u001b[0;34m,\u001b[0m \u001b[0;36m1\u001b[0m\u001b[0;34m]\u001b[0m\u001b[0;34m,\u001b[0m \u001b[0myerr\u001b[0m\u001b[0;34m=\u001b[0m\u001b[0mSE\u001b[0m\u001b[0;34m)\u001b[0m\u001b[0;34m\u001b[0m\u001b[0m\n\u001b[0m\u001b[1;32m     15\u001b[0m \u001b[0max2\u001b[0m\u001b[0;34m.\u001b[0m\u001b[0mset_title\u001b[0m\u001b[0;34m(\u001b[0m\u001b[0;34m\"Mean Processing Time for 1000 nodes, fit-axis\"\u001b[0m\u001b[0;34m)\u001b[0m\u001b[0;34m\u001b[0m\u001b[0m\n\u001b[1;32m     16\u001b[0m \u001b[0max2\u001b[0m\u001b[0;34m.\u001b[0m\u001b[0mset_xlabel\u001b[0m\u001b[0;34m(\u001b[0m\u001b[0;34m\"Number of Worker Processes\"\u001b[0m\u001b[0;34m)\u001b[0m\u001b[0;34m\u001b[0m\u001b[0m\n",
      "\u001b[0;32m/Users/eagle/anaconda/lib/python3.4/site-packages/matplotlib/__init__.py\u001b[0m in \u001b[0;36minner\u001b[0;34m(ax, *args, **kwargs)\u001b[0m\n\u001b[1;32m   1810\u001b[0m                     warnings.warn(msg % (label_namer, func.__name__),\n\u001b[1;32m   1811\u001b[0m                                   RuntimeWarning, stacklevel=2)\n\u001b[0;32m-> 1812\u001b[0;31m             \u001b[0;32mreturn\u001b[0m \u001b[0mfunc\u001b[0m\u001b[0;34m(\u001b[0m\u001b[0max\u001b[0m\u001b[0;34m,\u001b[0m \u001b[0;34m*\u001b[0m\u001b[0margs\u001b[0m\u001b[0;34m,\u001b[0m \u001b[0;34m**\u001b[0m\u001b[0mkwargs\u001b[0m\u001b[0;34m)\u001b[0m\u001b[0;34m\u001b[0m\u001b[0m\n\u001b[0m\u001b[1;32m   1813\u001b[0m         \u001b[0mpre_doc\u001b[0m \u001b[0;34m=\u001b[0m \u001b[0minner\u001b[0m\u001b[0;34m.\u001b[0m\u001b[0m__doc__\u001b[0m\u001b[0;34m\u001b[0m\u001b[0m\n\u001b[1;32m   1814\u001b[0m         \u001b[0;32mif\u001b[0m \u001b[0mpre_doc\u001b[0m \u001b[0;32mis\u001b[0m \u001b[0;32mNone\u001b[0m\u001b[0;34m:\u001b[0m\u001b[0;34m\u001b[0m\u001b[0m\n",
      "\u001b[0;32m/Users/eagle/anaconda/lib/python3.4/site-packages/matplotlib/axes/_axes.py\u001b[0m in \u001b[0;36merrorbar\u001b[0;34m(self, x, y, yerr, xerr, fmt, ecolor, elinewidth, capsize, barsabove, lolims, uplims, xlolims, xuplims, errorevery, capthick, **kwargs)\u001b[0m\n\u001b[1;32m   2962\u001b[0m                 if len(yerr) > 1 and not ((len(yerr) == len(y) and not (\n\u001b[1;32m   2963\u001b[0m                         iterable(yerr[0]) and len(yerr[0]) > 1))):\n\u001b[0;32m-> 2964\u001b[0;31m                     raise ValueError(\"yerr must be a scalar, the same \"\n\u001b[0m\u001b[1;32m   2965\u001b[0m                                      \"dimensions as y, or 2xN.\")\n\u001b[1;32m   2966\u001b[0m                 \u001b[0;31m# using list comps rather than arrays to preserve units\u001b[0m\u001b[0;34m\u001b[0m\u001b[0;34m\u001b[0m\u001b[0m\n",
      "\u001b[0;31mValueError\u001b[0m: yerr must be a scalar, the same dimensions as y, or 2xN."
     ]
    }
   ],
   "source": [
    "import matplotlib.pyplot as plt\n",
    "td = np.array(timerData)\n",
    "td2 = np.array(medianTimerData)\n",
    "fig =  plt.figure(figsize=(20, 10))\n",
    "ax = fig.add_subplot(221)\n",
    "X_LIM = 13\n",
    "Y_LIM = 550 \n",
    "ax.set_xlim(right=X_LIM, left=1)\n",
    "ax.set_ylim(bottom=0, top=Y_LIM)\n",
    "ax.set_xlabel('Number of Worker Processes')\n",
    "ax.set_ylabel('Time (s)')\n",
    "ax.set_title(\"Mean Processing Time for 1000 nodes, 0-axis\")\n",
    "ax2 = fig.add_subplot(222)\n",
    "ax2.errorbar(td[:, 0], td[:, 1], yerr=SE)\n",
    "ax2.set_title(\"Mean Processing Time for 1000 nodes, fit-axis\")\n",
    "ax2.set_xlabel(\"Number of Worker Processes\")\n",
    "ax2.set_ylabel(\"Time (s)\")\n",
    "ax.errorbar(td[:, 0], td[:, 1], yerr=SE)\n",
    "\n",
    "ax = fig.add_subplot(223)\n",
    "ax.set_xlim(right=X_LIM, left=1)\n",
    "ax.set_ylim(bottom=0, top=Y_LIM)\n",
    "ax.set_xlabel('Number of Worker Processes')\n",
    "ax.set_ylabel('Time (s)')\n",
    "ax.set_title(\"Median Processing Time for 1000 nodes, 0-axis\")\n",
    "ax.errorbar(td2[:, 0], td2[:, 1], yerr=SE)\n",
    "\n",
    "ax = fig.add_subplot(224)\n",
    "ax.set_xlabel('Number of Worker Processes')\n",
    "ax.set_ylabel('Time (s)')\n",
    "ax.set_title(\"Median Processing Time for 1000 nodes, fit-axis\")\n",
    "ax.errorbar(td2[:, 0], td2[:, 1], yerr=SE)\n",
    "\n",
    "\n",
    "\n",
    "plt.show()\n",
    "# plt.savefig(\"1000NodeRun\")\n",
    "# plt.errorbar(td[:, 0], td[:, 1], yerr=SE)\n",
    "# plt.axis([0, 12, 0, 280])\n",
    "# plt.show()\n",
    "# plt.savefig('1000node1run')"
   ]
  },
  {
   "cell_type": "code",
   "execution_count": null,
   "metadata": {
    "collapsed": true
   },
   "outputs": [],
   "source": []
  }
 ],
 "metadata": {
  "kernelspec": {
   "display_name": "Python 3",
   "language": "python",
   "name": "python3"
  },
  "language_info": {
   "codemirror_mode": {
    "name": "ipython",
    "version": 3
   },
   "file_extension": ".py",
   "mimetype": "text/x-python",
   "name": "python",
   "nbconvert_exporter": "python",
   "pygments_lexer": "ipython3",
   "version": "3.4.4"
  }
 },
 "nbformat": 4,
 "nbformat_minor": 0
}
