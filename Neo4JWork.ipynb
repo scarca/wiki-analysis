{
 "cells": [
  {
   "cell_type": "code",
   "execution_count": 1,
   "metadata": {
    "collapsed": true
   },
   "outputs": [],
   "source": [
    "from neo4j.v1 import GraphDatabase, basic_auth\n",
    "driver = GraphDatabase.driver(\"bolt://localhost:7687\", auth=basic_auth(\"neo4j\", \"neo4J\"))\n",
    "session = driver.session()"
   ]
  },
  {
   "cell_type": "code",
   "execution_count": 2,
   "metadata": {
    "collapsed": false
   },
   "outputs": [],
   "source": [
    "#Standard NS: 0\n",
    "#File NS: 6\n",
    "#Media NS: -2\n",
    "\n",
    "#we're going to ignore everything else \n",
    "inPage = False\n",
    "def processPage(title, ft, ID):\n",
    "    if ft == 0:\n",
    "        session.run(\"CREATE (a:article {title: {title}, id:{id}})\", {\"title\": title, \"id\": ID})\n",
    "    elif ft == 6: \n",
    "        session.run(\"CREATE (a:file {title: {title}, id:{id}})\", {\"title\": title, \"id\": ID})\n",
    "    elif ft == -2:\n",
    "        session.run(\"CREATE (a:media {title: {title}, id:{id}})\", {\"title\": title, \"id\": ID})\n",
    "    \n",
    "with open('enwiki-20170420-pages-articles.xml', 'r') as wiki:\n",
    "    c = 1\n",
    "    pc = 0\n",
    "    title = \"\"\n",
    "    ft = None\n",
    "    ID = None\n",
    "    isRedirect = None\n",
    "    for line in wiki:\n",
    "        line = line.strip()\n",
    "        if c %  100000 == 0 and not inPage:\n",
    "            session.close()\n",
    "            session = driver.session()\n",
    "        if line == '</page>':\n",
    "            inPage = False\n",
    "            c += 1\n",
    "            if not isRedirect:\n",
    "                processPage(title, ft, ID)\n",
    "        elif inPage:\n",
    "            if pc == 1:\n",
    "                #Grab Title \n",
    "                title = line[7:-8].lower()\n",
    "                pc += 1\n",
    "            elif pc == 2:\n",
    "                #Figure out namespace \n",
    "                ft = int(line[4:-5])\n",
    "                pc += 1\n",
    "            elif pc == 3:\n",
    "                ID = int(line[4:-5])\n",
    "                pc += 1\n",
    "            elif pc == 4:\n",
    "                if line[0:9] == \"<redirect\":\n",
    "                    isRedirect = True\n",
    "        elif line == '<page>':\n",
    "            inPage = True\n",
    "            isRedirect=False\n",
    "            pc = 1"
   ]
  },
  {
   "cell_type": "code",
   "execution_count": 77,
   "metadata": {
    "collapsed": false
   },
   "outputs": [
    {
     "data": {
      "text/plain": [
       "\" [[Taoism|Taoist]] philosopher [[Laozi]],&lt;ref name=&quot;EB1910&quot;&gt;Peter Kropotkin, [http://dwardmac.pitzer.edu/Anarchist_Archives/kropotkin/britanniaanarchy.html &quot;Anarchism&quot;], ''[[Encyclopædia Britannica Eleventh Edition|Encyclopædia Britannica]]'' 1910.&lt;/ref&gt; and in later centuries by [[Zhuang Zhou|Zhuangzi]] and Bao Jingyan.&lt;ref name=&quot;wordpress&quot;&gt;{{cite web|url=http://robertgraham.wordpress.com/anarchism-a-documentary-history-of-libertarian-ideas-volume-one-from-anarchy-to-anarchism-300ce-1939/|title=Anarchism: A Documentary History of Libertarian I\""
      ]
     },
     "execution_count": 77,
     "metadata": {},
     "output_type": "execute_result"
    }
   ],
   "source": [
    "session.close() \n",
    "t"
   ]
  },
  {
   "cell_type": "code",
   "execution_count": 3,
   "metadata": {
    "collapsed": false
   },
   "outputs": [],
   "source": [
    "#Now, lets go through the file again and create links between the articles. \n",
    "#One thing that would have been smart would have been to do this above while I was going through every line\n",
    "#And as I was giong through every line, I could have saved a YAML or XML file with title -> [links] \n",
    "#So it would have made processing several times faster\n",
    "#Unfortunately, we hve to exclude sidebars. \n",
    "import re \n",
    "#PATTERN \\[\\[File\\:(\\w|\\d|\\s|\\-|\\'|_)*\\.\\w*\\|.|\\[\\[(\\w|\\d|\\s|\\-|\\||'|\\(|\\))*\\]\\]\n",
    "inPage = False\n",
    "pattern = re.compile(\"\\[\\[File\\:(\\w|\\d|\\s|\\-|\\'|_)*\\.\\w*\\|.|\\[\\[(\\w|\\d|\\s|\\-|\\||'|\\(|\\))*\\]\\]\")\n",
    "def regex(ft, ID, text):\n",
    "    session = driver.session()\n",
    "    search = \"MATCH (a:\"\n",
    "    if ft == 0:\n",
    "        search = ''.join([search, 'article {id: {id}}), '])\n",
    "    elif ft == 6: \n",
    "        search = ''.join([search, 'file {id: {id}}), '])\n",
    "    result = re.finditer(pattern, text)\n",
    "    for k in result: \n",
    "        links = k.group(0)[2:-2].split('|')\n",
    "        for l in links: \n",
    "            l = l.lower()\n",
    "            if l[0:5].lower() == \"file:\": \n",
    "                session.run(''.join([search, '(b:file {title: {title}}) CREATE \\\n",
    "                (a)-[r:file_link {source: a.id, target: b.id}]->(b)']), {\"id\": ID, \"title\": l})\n",
    "            else:\n",
    "                session.run(''.join([search, '(b:article {title: {title}}) CREATE \\\n",
    "                (a)-[r:article_link {source: a.id, target: b.id}]->(b)']), {\"id\": ID, \"title\": l})\n",
    "    session.close()\n"
   ]
  },
  {
   "cell_type": "code",
   "execution_count": 5,
   "metadata": {
    "collapsed": false
   },
   "outputs": [
    {
     "ename": "KeyboardInterrupt",
     "evalue": "",
     "output_type": "error",
     "traceback": [
      "\u001b[0;31m---------------------------------------------------------------------------\u001b[0m",
      "\u001b[0;31mKeyboardInterrupt\u001b[0m                         Traceback (most recent call last)",
      "\u001b[0;32m<ipython-input-5-a738e9ee5041>\u001b[0m in \u001b[0;36m<module>\u001b[0;34m()\u001b[0m\n\u001b[1;32m     30\u001b[0m             \u001b[0;32melif\u001b[0m \u001b[0mpc\u001b[0m \u001b[0;34m>\u001b[0m \u001b[0;36m4\u001b[0m\u001b[0;34m:\u001b[0m\u001b[0;34m\u001b[0m\u001b[0m\n\u001b[1;32m     31\u001b[0m                 \u001b[0;32mif\u001b[0m \u001b[0;32mnot\u001b[0m \u001b[0misRedirect\u001b[0m \u001b[0;32mand\u001b[0m \u001b[0mft\u001b[0m \u001b[0;34m==\u001b[0m \u001b[0;36m0\u001b[0m \u001b[0;32mor\u001b[0m \u001b[0mft\u001b[0m \u001b[0;34m==\u001b[0m \u001b[0;36m6\u001b[0m\u001b[0;34m:\u001b[0m\u001b[0;34m\u001b[0m\u001b[0m\n\u001b[0;32m---> 32\u001b[0;31m                     \u001b[0mregex\u001b[0m\u001b[0;34m(\u001b[0m\u001b[0mft\u001b[0m\u001b[0;34m,\u001b[0m \u001b[0mID\u001b[0m\u001b[0;34m,\u001b[0m \u001b[0mline\u001b[0m\u001b[0;34m)\u001b[0m\u001b[0;34m\u001b[0m\u001b[0m\n\u001b[0m\u001b[1;32m     33\u001b[0m         \u001b[0;32melif\u001b[0m \u001b[0mline\u001b[0m \u001b[0;34m==\u001b[0m \u001b[0;34m'<page>'\u001b[0m\u001b[0;34m:\u001b[0m\u001b[0;34m\u001b[0m\u001b[0m\n\u001b[1;32m     34\u001b[0m             \u001b[0minPage\u001b[0m \u001b[0;34m=\u001b[0m \u001b[0;32mTrue\u001b[0m\u001b[0;34m\u001b[0m\u001b[0m\n",
      "\u001b[0;32m<ipython-input-3-dde5aa262d9e>\u001b[0m in \u001b[0;36mregex\u001b[0;34m(ft, ID, text)\u001b[0m\n\u001b[1;32m     16\u001b[0m         \u001b[0msearch\u001b[0m \u001b[0;34m=\u001b[0m \u001b[0;34m''\u001b[0m\u001b[0;34m.\u001b[0m\u001b[0mjoin\u001b[0m\u001b[0;34m(\u001b[0m\u001b[0;34m[\u001b[0m\u001b[0msearch\u001b[0m\u001b[0;34m,\u001b[0m \u001b[0;34m'file {id: {id}}), '\u001b[0m\u001b[0;34m]\u001b[0m\u001b[0;34m)\u001b[0m\u001b[0;34m\u001b[0m\u001b[0m\n\u001b[1;32m     17\u001b[0m     \u001b[0mresult\u001b[0m \u001b[0;34m=\u001b[0m \u001b[0mre\u001b[0m\u001b[0;34m.\u001b[0m\u001b[0mfinditer\u001b[0m\u001b[0;34m(\u001b[0m\u001b[0mpattern\u001b[0m\u001b[0;34m,\u001b[0m \u001b[0mtext\u001b[0m\u001b[0;34m)\u001b[0m\u001b[0;34m\u001b[0m\u001b[0m\n\u001b[0;32m---> 18\u001b[0;31m     \u001b[0;32mfor\u001b[0m \u001b[0mk\u001b[0m \u001b[0;32min\u001b[0m \u001b[0mresult\u001b[0m\u001b[0;34m:\u001b[0m\u001b[0;34m\u001b[0m\u001b[0m\n\u001b[0m\u001b[1;32m     19\u001b[0m         \u001b[0mlinks\u001b[0m \u001b[0;34m=\u001b[0m \u001b[0mk\u001b[0m\u001b[0;34m.\u001b[0m\u001b[0mgroup\u001b[0m\u001b[0;34m(\u001b[0m\u001b[0;36m0\u001b[0m\u001b[0;34m)\u001b[0m\u001b[0;34m[\u001b[0m\u001b[0;36m2\u001b[0m\u001b[0;34m:\u001b[0m\u001b[0;34m-\u001b[0m\u001b[0;36m2\u001b[0m\u001b[0;34m]\u001b[0m\u001b[0;34m.\u001b[0m\u001b[0msplit\u001b[0m\u001b[0;34m(\u001b[0m\u001b[0;34m'|'\u001b[0m\u001b[0;34m)\u001b[0m\u001b[0;34m\u001b[0m\u001b[0m\n\u001b[1;32m     20\u001b[0m         \u001b[0;32mfor\u001b[0m \u001b[0ml\u001b[0m \u001b[0;32min\u001b[0m \u001b[0mlinks\u001b[0m\u001b[0;34m:\u001b[0m\u001b[0;34m\u001b[0m\u001b[0m\n",
      "\u001b[0;31mKeyboardInterrupt\u001b[0m: "
     ]
    }
   ],
   "source": [
    "session = driver.session()\n",
    "inPage = False\n",
    "with open('enwiki-20170420-pages-articles.xml', 'r') as wiki:\n",
    "    c = 1\n",
    "    pc = 0\n",
    "    ft = 0\n",
    "    ID = 0\n",
    "    isRedirect = None\n",
    "    for line in wiki:\n",
    "        line = line.strip()\n",
    "        if c %  100000 == 0 and not inPage:\n",
    "            print(c)\n",
    "        if line == '</page>':\n",
    "            inPage = False\n",
    "            c += 1\n",
    "        elif inPage:\n",
    "            if pc == 1:\n",
    "                pc += 1\n",
    "            elif pc == 2:\n",
    "                #Figure out namespace \n",
    "                ft = int(line[4:-5])\n",
    "                pc += 1\n",
    "            elif pc == 3:\n",
    "                ID = int(line[4:-5])\n",
    "                pc += 1\n",
    "            elif pc == 4:\n",
    "                if line[0:9] == \"<redirect\":\n",
    "                    isRedirect = True\n",
    "                pc += 1\n",
    "            elif pc > 4:\n",
    "                if not isRedirect and ft == 0 or ft == 6:\n",
    "                    regex(ft, ID, line)\n",
    "        elif line == '<page>':\n",
    "            inPage = True\n",
    "            isRedirect=False\n",
    "            pc = 1"
   ]
  },
  {
   "cell_type": "code",
   "execution_count": null,
   "metadata": {
    "collapsed": true
   },
   "outputs": [],
   "source": []
  }
 ],
 "metadata": {
  "kernelspec": {
   "display_name": "wikipedia",
   "language": "python",
   "name": "wikipedia"
  },
  "language_info": {
   "codemirror_mode": {
    "name": "ipython",
    "version": 3
   },
   "file_extension": ".py",
   "mimetype": "text/x-python",
   "name": "python",
   "nbconvert_exporter": "python",
   "pygments_lexer": "ipython3",
   "version": "3.4.5"
  }
 },
 "nbformat": 4,
 "nbformat_minor": 0
}
