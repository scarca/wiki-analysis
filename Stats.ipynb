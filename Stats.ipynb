{
 "cells": [
  {
   "cell_type": "code",
   "execution_count": 51,
   "metadata": {
    "collapsed": false
   },
   "outputs": [
    {
     "data": {
      "text/plain": [
       "[(2, 6.191923141479492),\n",
       " (2, 5.98482084274292),\n",
       " (2, 6.005021095275879),\n",
       " (2, 81.5681459903717),\n",
       " (2, 5.882951974868774),\n",
       " (3, 6.11572003364563),\n",
       " (3, 6.354021072387695),\n",
       " (3, 5.981770992279053),\n",
       " (3, 5.839080095291138),\n",
       " (3, 5.8279128074646),\n",
       " (4, 5.8156349658966064),\n",
       " (4, 6.165719032287598),\n",
       " (4, 6.08367395401001),\n",
       " (4, 5.988744020462036),\n",
       " (4, 5.903447151184082),\n",
       " (5, 6.429424047470093),\n",
       " (5, 6.613747835159302),\n",
       " (5, 5.846299886703491),\n",
       " (5, 5.926891088485718),\n",
       " (5, 7.125981092453003),\n",
       " (6, 6.912446975708008),\n",
       " (6, 7.228678941726685),\n",
       " (6, 7.1757731437683105),\n",
       " (6, 6.740716934204102),\n",
       " (6, 5.9440391063690186),\n",
       " (7, 6.843973159790039),\n",
       " (7, 6.035115957260132),\n",
       " (7, 6.443369150161743),\n",
       " (7, 7.120739936828613),\n",
       " (7, 6.742768049240112),\n",
       " (8, 5.955025911331177),\n",
       " (8, 6.006919860839844),\n",
       " (8, 6.010264158248901),\n",
       " (8, 6.283840894699097),\n",
       " (8, 6.565454959869385),\n",
       " (9, 8.324506044387817),\n",
       " (9, 7.179224014282227),\n",
       " (9, 6.558879137039185),\n",
       " (9, 7.903430938720703),\n",
       " (9, 7.804448127746582),\n",
       " (10, 7.577463150024414),\n",
       " (10, 7.441553831100464),\n",
       " (10, 6.803945064544678),\n",
       " (10, 6.069823980331421),\n",
       " (10, 6.34940505027771),\n",
       " (11, 6.181005001068115),\n",
       " (11, 6.956048965454102),\n",
       " (11, 6.049190998077393),\n",
       " (11, 6.565769910812378),\n",
       " (11, 6.823729991912842),\n",
       " (12, 7.893058776855469),\n",
       " (12, 6.727302074432373),\n",
       " (12, 6.818920135498047),\n",
       " (12, 6.043054819107056),\n",
       " (12, 9.268986225128174)]"
      ]
     },
     "execution_count": 51,
     "metadata": {},
     "output_type": "execute_result"
    }
   ],
   "source": [
    "timerFile = 'timer.txt'\n",
    "rawTimerData = []\n",
    "c = 0\n",
    "with open(timerFile, 'r') as t:\n",
    "    count = 1\n",
    "    for l in t:\n",
    "        if c % 5 == 0:\n",
    "            count += 1\n",
    "        rawTimerData.append((count, float(l)))\n",
    "        c += 1\n",
    "rawTimerData"
   ]
  },
  {
   "cell_type": "code",
   "execution_count": 64,
   "metadata": {
    "collapsed": false
   },
   "outputs": [
    {
     "name": "stdout",
     "output_type": "stream",
     "text": [
      "Using matplotlib backend: MacOSX\n"
     ]
    },
    {
     "data": {
      "text/plain": [
       "[[0, 6.0050210952758789],\n",
       " [1, 5.9817709922790527],\n",
       " [2, 5.9887440204620361],\n",
       " [3, 6.4294240474700928],\n",
       " [4, 6.9124469757080078],\n",
       " [5, 6.7427680492401123],\n",
       " [6, 6.0102641582489014],\n",
       " [7, 7.804448127746582],\n",
       " [8, 6.8039450645446777],\n",
       " [9, 6.5657699108123779],\n",
       " [10, 6.8189201354980469]]"
      ]
     },
     "execution_count": 64,
     "metadata": {},
     "output_type": "execute_result"
    }
   ],
   "source": [
    "%matplotlib \n",
    "import math \n",
    "import statistics \n",
    "import numpy as np \n",
    "rawTimerData = np.array(rawTimerData)\n",
    "timerData = [0]*(int(len(rawTimerData)/5))\n",
    "for i in range(0, int(len(rawTimerData)/5)):\n",
    "    timerData[i] = [i, statistics.median(rawTimerData[i*5:(5*i+5), 1])]\n",
    "timerData"
   ]
  },
  {
   "cell_type": "code",
   "execution_count": 65,
   "metadata": {
    "collapsed": false
   },
   "outputs": [
    {
     "data": {
      "text/plain": [
       "<matplotlib.text.Text at 0x116115dd8>"
      ]
     },
     "execution_count": 65,
     "metadata": {},
     "output_type": "execute_result"
    }
   ],
   "source": [
    "import matplotlib.pyplot as plt\n",
    "td = np.array(timerData)\n",
    "plt.plot(td[:, 0], td[:, 1])\n",
    "plt.xlabel('Number of Worker Processes')\n",
    "plt.ylabel('Time (s)')\n",
    "plt.title('Processing time for 1000 nodes')\n",
    "# plt.savefig('1000node1run')"
   ]
  },
  {
   "cell_type": "code",
   "execution_count": 66,
   "metadata": {
    "collapsed": false
   },
   "outputs": [
    {
     "data": {
      "text/plain": [
       "array([[  0.        ,   6.0050211 ],\n",
       "       [  1.        ,   5.98177099],\n",
       "       [  2.        ,   5.98874402],\n",
       "       [  3.        ,   6.42942405],\n",
       "       [  4.        ,   6.91244698],\n",
       "       [  5.        ,   6.74276805],\n",
       "       [  6.        ,   6.01026416],\n",
       "       [  7.        ,   7.80444813],\n",
       "       [  8.        ,   6.80394506],\n",
       "       [  9.        ,   6.56576991],\n",
       "       [ 10.        ,   6.81892014]])"
      ]
     },
     "execution_count": 66,
     "metadata": {},
     "output_type": "execute_result"
    }
   ],
   "source": []
  },
  {
   "cell_type": "code",
   "execution_count": 67,
   "metadata": {
    "collapsed": false
   },
   "outputs": [
    {
     "data": {
      "text/plain": [
       "array([ 6.0050211 ,  5.98177099,  5.98874402,  6.42942405,  6.91244698,\n",
       "        6.74276805,  6.01026416,  7.80444813,  6.80394506,  6.56576991,\n",
       "        6.81892014])"
      ]
     },
     "execution_count": 67,
     "metadata": {},
     "output_type": "execute_result"
    }
   ],
   "source": []
  },
  {
   "cell_type": "code",
   "execution_count": null,
   "metadata": {
    "collapsed": true
   },
   "outputs": [],
   "source": []
  }
 ],
 "metadata": {
  "kernelspec": {
   "display_name": "Python 3",
   "language": "python",
   "name": "python3"
  },
  "language_info": {
   "codemirror_mode": {
    "name": "ipython",
    "version": 3
   },
   "file_extension": ".py",
   "mimetype": "text/x-python",
   "name": "python",
   "nbconvert_exporter": "python",
   "pygments_lexer": "ipython3",
   "version": "3.4.4"
  }
 },
 "nbformat": 4,
 "nbformat_minor": 0
}
