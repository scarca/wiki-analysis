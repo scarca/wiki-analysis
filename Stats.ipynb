{
 "cells": [
  {
   "cell_type": "code",
   "execution_count": 1,
   "metadata": {
    "collapsed": false
   },
   "outputs": [
    {
     "data": {
      "text/plain": [
       "[(2, 516.4013288021088),\n",
       " (2, 548.2791769504547),\n",
       " (2, 510.3846960067749),\n",
       " (2, 551.5680708885193),\n",
       " (2, 547.7385470867157),\n",
       " (3, 491.87120509147644),\n",
       " (3, 490.00460505485535),\n",
       " (3, 491.3314850330353),\n",
       " (3, 508.8956308364868),\n",
       " (3, 512.9043629169464),\n",
       " (4, 493.27525997161865),\n",
       " (4, 489.0982539653778),\n",
       " (4, 491.1875729560852),\n",
       " (4, 506.80149388313293),\n",
       " (4, 511.05112886428833),\n",
       " (5, 513.1606969833374),\n",
       " (5, 509.4607539176941),\n",
       " (5, 490.82305097579956),\n",
       " (5, 492.9422559738159),\n",
       " (5, 491.54031205177307),\n",
       " (6, 513.1525819301605),\n",
       " (6, 534.4415709972382),\n",
       " (6, 495.0867099761963),\n",
       " (6, 531.5888910293579),\n",
       " (6, 493.3937599658966),\n",
       " (7, 494.0410530567169),\n",
       " (7, 509.50750708580017),\n",
       " (7, 492.0622010231018),\n",
       " (7, 587.2936928272247),\n",
       " (7, 493.35953998565674),\n",
       " (8, 494.8321681022644),\n",
       " (8, 517.5407040119171),\n",
       " (8, 511.23468112945557),\n",
       " (8, 491.2550699710846),\n",
       " (8, 511.578547000885),\n",
       " (9, 511.48333382606506),\n",
       " (9, 512.6117949485779),\n",
       " (9, 494.6898798942566),\n",
       " (9, 491.95138597488403),\n",
       " (9, 490.7844350337982),\n",
       " (10, 493.33258295059204),\n",
       " (10, 508.84459114074707),\n",
       " (10, 551.2592499256134),\n",
       " (10, 492.57524490356445),\n",
       " (10, 490.87036299705505),\n",
       " (11, 495.30616307258606),\n",
       " (11, 523.5696499347687),\n",
       " (11, 498.82771921157837),\n",
       " (11, 496.6007318496704),\n",
       " (11, 513.5833239555359),\n",
       " (12, 512.5494379997253),\n",
       " (12, 495.4363582134247),\n",
       " (12, 492.8537881374359),\n",
       " (12, 495.65269899368286),\n",
       " (12, 527.870169878006)]"
      ]
     },
     "execution_count": 1,
     "metadata": {},
     "output_type": "execute_result"
    }
   ],
   "source": [
    "timerFile = 'timer.txt'\n",
    "rawTimerData = []\n",
    "c = 0\n",
    "with open(timerFile, 'r') as t:\n",
    "    count = 1\n",
    "    for l in t:\n",
    "        if c % 5 == 0:\n",
    "            count += 1\n",
    "        rawTimerData.append((count, float(l)))\n",
    "        c += 1\n",
    "rawTimerData"
   ]
  },
  {
   "cell_type": "code",
   "execution_count": 17,
   "metadata": {
    "collapsed": false
   },
   "outputs": [
    {
     "name": "stdout",
     "output_type": "stream",
     "text": [
      "Using matplotlib backend: MacOSX\n"
     ]
    }
   ],
   "source": [
    "%matplotlib \n",
    "import math \n",
    "import statistics \n",
    "import numpy as np \n",
    "rawTimerData = np.array(rawTimerData)\n",
    "timerData = [0]*(int(len(rawTimerData)/5))\n",
    "medianTimerData = [0] * (int(len(rawTimerData)/5))\n",
    "for i in range(0, int(len(rawTimerData)/5)):\n",
    "    timerData[i] = [i + 2, statistics.mean(rawTimerData[i*5:(5*i+5), 1])]\n",
    "    medianTimerData[i] = [i + 2, statistics.median(rawTimerData[i*5:(5*i+5), 1])]\n"
   ]
  },
  {
   "cell_type": "code",
   "execution_count": 18,
   "metadata": {
    "collapsed": false,
    "scrolled": true
   },
   "outputs": [],
   "source": [
    "#Errors per trial \n",
    "betterStructuredData = np.zeros((11, 5))\n",
    "c = 0\n",
    "for k in rawTimerData:  \n",
    "    betterStructuredData[int(k[0] - 2), int(c % 5)] = k[1]\n",
    "    c += 1\n",
    "\n",
    "medians = np.array(list(map(lambda k: statistics.median(k), betterStructuredData)))\n",
    "variance = np.array(list(map(lambda k: statistics.variance(k), betterStructuredData)))\n",
    "k = [[m, 0] for m in medians]\n",
    "for j in range(0, variance.size): \n",
    "    k[j][1] = variance[j]\n",
    "\n",
    "#Get Standard Error \n",
    "SE = np.array(list(map(lambda k: 1.96*np.sqrt(k)/np.sqrt(5), variance )))\n"
   ]
  },
  {
   "cell_type": "code",
   "execution_count": 20,
   "metadata": {
    "collapsed": false
   },
   "outputs": [],
   "source": [
    "import matplotlib.pyplot as plt\n",
    "td = np.array(timerData)\n",
    "td2 = np.array(medianTimerData)\n",
    "fig =  plt.figure(figsize=(20, 10))\n",
    "ax = fig.add_subplot(221)\n",
    "X_LIM = 13\n",
    "Y_LIM = 550 \n",
    "ax.set_xlim(right=X_LIM, left=1)\n",
    "ax.set_ylim(bottom=0, top=Y_LIM)\n",
    "ax.set_xlabel('Number of Worker Processes')\n",
    "ax.set_ylabel('Time (s)')\n",
    "ax.set_title(\"Mean Processing Time for 1000 nodes, 0-axis\")\n",
    "ax2 = fig.add_subplot(222)\n",
    "ax2.errorbar(td[:, 0], td[:, 1], yerr=SE)\n",
    "ax2.set_title(\"Mean Processing Time for 1000 nodes, fit-axis\")\n",
    "ax2.set_xlabel(\"Number of Worker Processes\")\n",
    "ax2.set_ylabel(\"Time (s)\")\n",
    "ax.errorbar(td[:, 0], td[:, 1], yerr=SE)\n",
    "\n",
    "ax = fig.add_subplot(223)\n",
    "ax.set_xlim(right=X_LIM, left=1)\n",
    "ax.set_ylim(bottom=0, top=Y_LIM)\n",
    "ax.set_xlabel('Number of Worker Processes')\n",
    "ax.set_ylabel('Time (s)')\n",
    "ax.set_title(\"Median Processing Time for 1000 nodes, 0-axis\")\n",
    "ax.errorbar(td2[:, 0], td2[:, 1], yerr=SE)\n",
    "\n",
    "ax = fig.add_subplot(224)\n",
    "ax.set_xlabel('Number of Worker Processes')\n",
    "ax.set_ylabel('Time (s)')\n",
    "ax.set_title(\"Median Processing Time for 1000 nodes, fit-axis\")\n",
    "ax.errorbar(td2[:, 0], td2[:, 1], yerr=SE)\n",
    "\n",
    "\n",
    "\n",
    "plt.show()\n",
    "plt.savefig(\"1000NodeRun\")\n",
    "# plt.errorbar(td[:, 0], td[:, 1], yerr=SE)\n",
    "# plt.axis([0, 12, 0, 280])\n",
    "# plt.show()\n",
    "# plt.savefig('1000node1run')"
   ]
  },
  {
   "cell_type": "code",
   "execution_count": null,
   "metadata": {
    "collapsed": true
   },
   "outputs": [],
   "source": []
  }
 ],
 "metadata": {
  "kernelspec": {
   "display_name": "Python 3",
   "language": "python",
   "name": "python3"
  },
  "language_info": {
   "codemirror_mode": {
    "name": "ipython",
    "version": 3
   },
   "file_extension": ".py",
   "mimetype": "text/x-python",
   "name": "python",
   "nbconvert_exporter": "python",
   "pygments_lexer": "ipython3",
   "version": "3.4.4"
  }
 },
 "nbformat": 4,
 "nbformat_minor": 0
}
