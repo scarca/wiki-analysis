{
 "cells": [
  {
   "cell_type": "code",
   "execution_count": 79,
   "metadata": {
    "collapsed": false
   },
   "outputs": [
    {
     "data": {
      "text/plain": [
       "[(2, 276.30282497406006),\n",
       " (2, 267.55452394485474),\n",
       " (2, 270.6723780632019),\n",
       " (2, 268.12603783607483),\n",
       " (2, 289.2109160423279),\n",
       " (3, 270.4639570713043),\n",
       " (3, 267.7532730102539),\n",
       " (3, 258.98036098480225),\n",
       " (3, 255.75517010688782),\n",
       " (3, 257.8097081184387),\n",
       " (4, 256.33657598495483),\n",
       " (4, 257.2349388599396),\n",
       " (4, 255.78811693191528),\n",
       " (4, 257.15503096580505),\n",
       " (4, 297.5176451206207),\n",
       " (5, 255.87809085845947),\n",
       " (5, 256.697065114975),\n",
       " (5, 258.95161604881287),\n",
       " (5, 257.27565121650696),\n",
       " (5, 261.08716797828674),\n",
       " (6, 266.7067058086395),\n",
       " (6, 266.8436350822449),\n",
       " (6, 257.7094979286194),\n",
       " (6, 261.18743896484375),\n",
       " (6, 259.30149507522583),\n",
       " (7, 260.6145439147949),\n",
       " (7, 279.2223789691925),\n",
       " (7, 277.2084918022156),\n",
       " (7, 257.11679196357727),\n",
       " (7, 257.6045241355896),\n",
       " (8, 255.30477809906006),\n",
       " (8, 257.13146209716797),\n",
       " (8, 256.1818640232086),\n",
       " (8, 261.9132990837097),\n",
       " (8, 257.9512300491333),\n",
       " (9, 256.1974821090698),\n",
       " (9, 254.7939178943634),\n",
       " (9, 259.81320691108704),\n",
       " (9, 295.80772614479065),\n",
       " (9, 257.7320761680603),\n",
       " (10, 260.6850531101227),\n",
       " (10, 258.1884160041809),\n",
       " (10, 259.7808508872986),\n",
       " (10, 259.222895860672),\n",
       " (10, 258.70429396629333),\n",
       " (11, 258.2575001716614),\n",
       " (11, 260.4750919342041),\n",
       " (11, 258.02383613586426),\n",
       " (11, 259.5337541103363),\n",
       " (11, 307.5862247943878),\n",
       " (12, 255.47429394721985),\n",
       " (12, 285.0580270290375),\n",
       " (12, 258.91092801094055),\n",
       " (12, 259.4834499359131),\n",
       " (12, 282.6927561759949)]"
      ]
     },
     "execution_count": 79,
     "metadata": {},
     "output_type": "execute_result"
    }
   ],
   "source": [
    "timerFile = 'timer.txt'\n",
    "rawTimerData = []\n",
    "c = 0\n",
    "with open(timerFile, 'r') as t:\n",
    "    count = 1\n",
    "    for l in t:\n",
    "        if c % 5 == 0:\n",
    "            count += 1\n",
    "        rawTimerData.append((count, float(l)))\n",
    "        c += 1\n",
    "rawTimerData"
   ]
  },
  {
   "cell_type": "code",
   "execution_count": 125,
   "metadata": {
    "collapsed": false
   },
   "outputs": [
    {
     "name": "stdout",
     "output_type": "stream",
     "text": [
      "Using matplotlib backend: MacOSX\n"
     ]
    },
    {
     "data": {
      "text/plain": [
       "[[2, 274.3733361721039],\n",
       " [3, 262.15249385833738],\n",
       " [4, 264.80646157264709],\n",
       " [5, 257.97791824340823],\n",
       " [6, 262.34975457191467],\n",
       " [7, 266.35334615707399],\n",
       " [8, 257.69652667045591],\n",
       " [9, 264.86888184547422],\n",
       " [10, 259.31630196571348],\n",
       " [11, 268.77528142929077],\n",
       " [12, 268.32389101982119]]"
      ]
     },
     "execution_count": 125,
     "metadata": {},
     "output_type": "execute_result"
    }
   ],
   "source": [
    "%matplotlib \n",
    "import math \n",
    "import statistics \n",
    "import numpy as np \n",
    "rawTimerData = np.array(rawTimerData)\n",
    "timerData = [0]*(int(len(rawTimerData)/5))\n",
    "for i in range(0, int(len(rawTimerData)/5)):\n",
    "    timerData[i] = [i + 2, statistics.mean(rawTimerData[i*5:(5*i+5), 1])]\n",
    "timerData"
   ]
  },
  {
   "cell_type": "code",
   "execution_count": 126,
   "metadata": {
    "collapsed": false,
    "scrolled": true
   },
   "outputs": [],
   "source": [
    "#Errors per trial \n",
    "betterStructuredData = np.zeros((11, 5))\n",
    "c = 0\n",
    "for k in rawTimerData:  \n",
    "    betterStructuredData[int(k[0] - 2), int(c % 5)] = k[1]\n",
    "    c += 1\n",
    "\n",
    "medians = np.array(list(map(lambda k: statistics.median(k), betterStructuredData)))\n",
    "variance = np.array(list(map(lambda k: statistics.variance(k), betterStructuredData)))\n",
    "k = [[m, 0] for m in medians]\n",
    "for j in range(0, variance.size): \n",
    "    k[j][1] = variance[j]\n",
    "\n",
    "#Get Standard Error \n",
    "SE = np.array(list(map(lambda k: 1.96*np.sqrt(k)/np.sqrt(5), variance )))\n"
   ]
  },
  {
   "cell_type": "code",
   "execution_count": 127,
   "metadata": {
    "collapsed": false
   },
   "outputs": [],
   "source": [
    "import matplotlib.pyplot as plt\n",
    "td = np.array(timerData)\n",
    "fig =  plt.figure(figsize=(20, 10))\n",
    "ax = fig.add_subplot(121)\n",
    "ax.set_xlim(right=13, left=1)\n",
    "ax.set_ylim(bottom=0, top=280)\n",
    "ax.set_xlabel('Number of Worker Processes')\n",
    "ax.set_ylabel('Time (s)')\n",
    "ax.set_title(\"Processing Time for 500 nodes, 0-axis\")\n",
    "ax2 = fig.add_subplot(122)\n",
    "ax2.errorbar(td[:, 0], td[:, 1], yerr=SE)\n",
    "ax2.set_title(\"Processing Time for 500 nodes, fit-axis\")\n",
    "ax2.set_xlabel(\"Number of Worker Processes\")\n",
    "ax2.set_ylabel(\"Time (s)\")\n",
    "ax.errorbar(td[:, 0], td[:, 1], yerr=SE)\n",
    "plt.show()\n",
    "plt.savefig(\"500NodeRun\")\n",
    "# plt.errorbar(td[:, 0], td[:, 1], yerr=SE)\n",
    "# plt.axis([0, 12, 0, 280])\n",
    "# plt.show()\n",
    "# plt.savefig('1000node1run')"
   ]
  },
  {
   "cell_type": "code",
   "execution_count": null,
   "metadata": {
    "collapsed": true
   },
   "outputs": [],
   "source": []
  }
 ],
 "metadata": {
  "kernelspec": {
   "display_name": "Python 3",
   "language": "python",
   "name": "python3"
  },
  "language_info": {
   "codemirror_mode": {
    "name": "ipython",
    "version": 3
   },
   "file_extension": ".py",
   "mimetype": "text/x-python",
   "name": "python",
   "nbconvert_exporter": "python",
   "pygments_lexer": "ipython3",
   "version": "3.4.4"
  }
 },
 "nbformat": 4,
 "nbformat_minor": 0
}
