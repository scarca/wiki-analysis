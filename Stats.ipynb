{
 "cells": [
  {
   "cell_type": "code",
   "execution_count": 6,
   "metadata": {
    "collapsed": true
   },
   "outputs": [],
   "source": [
    "#Configs\n",
    "START_THREAD = 4\n",
    "END_THREAD = 12\n",
    "TEST_NUM = 5"
   ]
  },
  {
   "cell_type": "code",
   "execution_count": 7,
   "metadata": {
    "collapsed": false
   },
   "outputs": [
    {
     "data": {
      "text/plain": [
       "[(2, 246.85460782051086),\n",
       " (2, 221.94769716262817),\n",
       " (2, 208.05621194839478),\n",
       " (2, 209.59608697891235),\n",
       " (2, 239.55885410308838),\n",
       " (3, 256.51569414138794),\n",
       " (3, 209.47637486457825),\n",
       " (3, 209.0413520336151),\n",
       " (3, 245.37658596038818),\n",
       " (3, 199.16772508621216),\n",
       " (4, 216.19195199012756),\n",
       " (4, 221.6333990097046),\n",
       " (4, 206.17261505126953),\n",
       " (4, 220.31123089790344),\n",
       " (4, 186.80325412750244),\n",
       " (5, 168.57935690879822),\n",
       " (5, 171.69807386398315),\n",
       " (5, 210.14727210998535),\n",
       " (5, 200.19491505622864),\n",
       " (5, 196.38586592674255),\n",
       " (6, 173.4246780872345),\n",
       " (6, 203.40747380256653),\n",
       " (6, 227.75365900993347),\n",
       " (6, 248.23647594451904),\n",
       " (6, 246.3062641620636),\n",
       " (7, 206.0872449874878),\n",
       " (7, 245.19736099243164),\n",
       " (7, 200.85464096069336),\n",
       " (7, 211.78607082366943),\n",
       " (7, 223.18892097473145),\n",
       " (8, 155.97999382019043),\n",
       " (8, 148.638001203537),\n",
       " (8, 187.06296920776367),\n",
       " (8, 178.5327160358429),\n",
       " (8, 165.7447371482849),\n",
       " (9, 192.20616102218628),\n",
       " (9, 187.3301420211792),\n",
       " (9, 196.3877248764038),\n",
       " (9, 217.70075917243958),\n",
       " (9, 196.58846998214722),\n",
       " (10, 159.87011098861694),\n",
       " (10, 180.82569694519043),\n",
       " (10, 156.29151892662048),\n",
       " (10, 221.99264097213745),\n",
       " (10, 162.7435531616211)]"
      ]
     },
     "execution_count": 7,
     "metadata": {},
     "output_type": "execute_result"
    }
   ],
   "source": [
    "timerFile = 'timer.txt'\n",
    "rawTimerData = []\n",
    "c = 0\n",
    "with open(timerFile, 'r') as t:\n",
    "    count = 1\n",
    "    for l in t:\n",
    "        if c % TEST_NUM == 0:\n",
    "            count += 1\n",
    "        rawTimerData.append((count, float(l)))\n",
    "        c += 1\n",
    "rawTimerData"
   ]
  },
  {
   "cell_type": "code",
   "execution_count": 8,
   "metadata": {
    "collapsed": false
   },
   "outputs": [
    {
     "name": "stdout",
     "output_type": "stream",
     "text": [
      "Using matplotlib backend: MacOSX\n"
     ]
    }
   ],
   "source": [
    "%matplotlib \n",
    "import math \n",
    "import statistics \n",
    "import numpy as np \n",
    "rawTimerData = np.array(rawTimerData)\n",
    "timerData = [0]*(int(len(rawTimerData)/TEST_NUM))\n",
    "medianTimerData = [0] * (int(len(rawTimerData)/TEST_NUM))\n",
    "for i in range(0, int(len(rawTimerData)/TEST_NUM)):\n",
    "    timerData[i] = [i + START_THREAD, statistics.mean(rawTimerData[i*TEST_NUM:(TEST_NUM*i+TEST_NUM), 1])]\n",
    "    medianTimerData[i] = [i + START_THREAD, statistics.median(rawTimerData[i*TEST_NUM:(TEST_NUM*i+TEST_NUM), 1])]\n"
   ]
  },
  {
   "cell_type": "code",
   "execution_count": 9,
   "metadata": {
    "collapsed": false,
    "scrolled": true
   },
   "outputs": [],
   "source": [
    "#Errors per trial \n",
    "betterStructuredData = np.zeros((END_THREAD - START_THREAD + 1, TEST_NUM))\n",
    "c = 0\n",
    "for k in rawTimerData:  \n",
    "    betterStructuredData[int(k[0] - TEST_NUM), int(c % TEST_NUM)] = k[1]\n",
    "    c += 1\n",
    "\n",
    "medians = np.array(list(map(lambda k: statistics.median(k), betterStructuredData)))\n",
    "variance = np.array(list(map(lambda k: statistics.variance(k), betterStructuredData)))\n",
    "k = [[m, 0] for m in medians]\n",
    "for j in range(0, variance.size): \n",
    "    k[j][1] = variance[j]\n",
    "\n",
    "#Get Standard Error \n",
    "SE = np.array(list(map(lambda k: 1.96*np.sqrt(k)/np.sqrt(TEST_NUM), variance )))\n"
   ]
  },
  {
   "cell_type": "code",
   "execution_count": 13,
   "metadata": {
    "collapsed": false
   },
   "outputs": [
    {
     "name": "stdout",
     "output_type": "stream",
     "text": [
      "[[   4.          225.2026916 ]\n",
      " [   5.          223.91554642]\n",
      " [   6.          210.22249022]\n",
      " [   7.          189.40109677]\n",
      " [   8.          219.8257102 ]\n",
      " [   9.          217.42284775]\n",
      " [  10.          167.19168348]\n",
      " [  11.          198.04265141]\n",
      " [  12.          176.3447042 ]]\n"
     ]
    }
   ],
   "source": [
    "import matplotlib.pyplot as plt\n",
    "td = np.array(timerData)\n",
    "print(td)\n",
    "td2 = np.array(medianTimerData)\n",
    "fig =  plt.figure(figsize=(12,12))\n",
    "ax = fig.add_subplot(221)\n",
    "X_LIM = 13\n",
    "Y_LIM = 550 \n",
    "ax.set_xlim(right=X_LIM, left=1)\n",
    "ax.set_ylim(bottom=0, top=Y_LIM)\n",
    "ax.set_xlabel('Number of Worker Processes')\n",
    "ax.set_ylabel('Time (s)')\n",
    "ax.set_title(\"Mean Processing Time for 1000 nodes, 0-axis\")\n",
    "ax2 = fig.add_subplot(222)\n",
    "ax2.errorbar(td[:, 0], td[:, 1], yerr=SE)\n",
    "ax2.set_title(\"Mean Processing Time for 1000 nodes, fit-axis\")\n",
    "ax2.set_xlabel(\"Number of Worker Processes\")\n",
    "ax2.set_ylabel(\"Time (s)\")\n",
    "ax.errorbar(td[:, 0], td[:, 1], yerr=SE)\n",
    "\n",
    "ax = fig.add_subplot(223)\n",
    "ax.set_xlim(right=X_LIM, left=1)\n",
    "ax.set_ylim(bottom=0, top=Y_LIM)\n",
    "ax.set_xlabel('Number of Worker Processes')\n",
    "ax.set_ylabel('Time (s)')\n",
    "ax.set_title(\"Median Processing Time for 1000 nodes, 0-axis\")\n",
    "ax.errorbar(td2[:, 0], td2[:, 1], yerr=SE)\n",
    "\n",
    "ax = fig.add_subplot(224)\n",
    "ax.set_xlabel('Number of Worker Processes')\n",
    "ax.set_ylabel('Time (s)')\n",
    "ax.set_title(\"Median Processing Time for 1000 nodes, fit-axis\")\n",
    "ax.errorbar(td2[:, 0], td2[:, 1], yerr=SE)\n",
    "\n",
    "\n",
    "\n",
    "plt.show()\n",
    "plt.savefig(\"1000NodeRun_sessionManagement\")\n",
    "# plt.errorbar(td[:, 0], td[:, 1], yerr=SE)\n",
    "# plt.axis([0, 12, 0, 280])\n",
    "# plt.show()\n",
    "# plt.savefig('1000node1run')"
   ]
  },
  {
   "cell_type": "code",
   "execution_count": 15,
   "metadata": {
    "collapsed": false
   },
   "outputs": [
    {
     "data": {
      "text/plain": [
       "array([ 209.14360904,  196.21824976,  194.79288392,  175.57287116,\n",
       "        209.64014722,  193.56896652,  151.8643598 ,  175.84383711,\n",
       "        163.69937636])"
      ]
     },
     "execution_count": 15,
     "metadata": {},
     "output_type": "execute_result"
    }
   ],
   "source": [
    "td[:, 1] - SE"
   ]
  },
  {
   "cell_type": "code",
   "execution_count": 17,
   "metadata": {
    "collapsed": false
   },
   "outputs": [
    {
     "data": {
      "text/plain": [
       "array([ 18.32102055,  31.59848884,  17.60288191,  15.77594514,\n",
       "        11.62020981,  27.21372447,  17.48619269,  25.3255397 ,  14.42643502])"
      ]
     },
     "execution_count": 17,
     "metadata": {},
     "output_type": "execute_result"
    }
   ],
   "source": [
    "np.sqrt(variance)"
   ]
  },
  {
   "cell_type": "code",
   "execution_count": 20,
   "metadata": {
    "collapsed": false
   },
   "outputs": [
    {
     "data": {
      "text/plain": [
       "[[4, 221.94769716262817],\n",
       " [5, 209.47637486457825],\n",
       " [6, 216.19195199012756],\n",
       " [7, 196.38586592674255],\n",
       " [8, 227.75365900993347],\n",
       " [9, 211.78607082366943],\n",
       " [10, 165.74473714828491],\n",
       " [11, 196.38772487640381],\n",
       " [12, 162.74355316162109]]"
      ]
     },
     "execution_count": 20,
     "metadata": {},
     "output_type": "execute_result"
    }
   ],
   "source": [
    "medianTimerData"
   ]
  },
  {
   "cell_type": "code",
   "execution_count": null,
   "metadata": {
    "collapsed": true
   },
   "outputs": [],
   "source": []
  }
 ],
 "metadata": {
  "kernelspec": {
   "display_name": "Python 3",
   "language": "python",
   "name": "python3"
  },
  "language_info": {
   "codemirror_mode": {
    "name": "ipython",
    "version": 3
   },
   "file_extension": ".py",
   "mimetype": "text/x-python",
   "name": "python",
   "nbconvert_exporter": "python",
   "pygments_lexer": "ipython3",
   "version": "3.4.4"
  }
 },
 "nbformat": 4,
 "nbformat_minor": 0
}
